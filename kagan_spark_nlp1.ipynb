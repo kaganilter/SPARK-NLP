{
  "nbformat": 4,
  "nbformat_minor": 0,
  "metadata": {
    "colab": {
      "name": "kagan spark nlp1.ipynb",
      "provenance": [],
      "authorship_tag": "ABX9TyMzX1xPvh24SmOPEzhxMjId",
      "include_colab_link": true
    },
    "kernelspec": {
      "name": "python3",
      "display_name": "Python 3"
    }
  },
  "cells": [
    {
      "cell_type": "markdown",
      "metadata": {
        "id": "view-in-github",
        "colab_type": "text"
      },
      "source": [
        "<a href=\"https://colab.research.google.com/github/kaganilter/SPARK-NLP/blob/main/kagan_spark_nlp1.ipynb\" target=\"_parent\"><img src=\"https://colab.research.google.com/assets/colab-badge.svg\" alt=\"Open In Colab\"/></a>"
      ]
    },
    {
      "cell_type": "code",
      "metadata": {
        "colab": {
          "base_uri": "https://localhost:8080/"
        },
        "id": "-sqf1v3qCeuY",
        "outputId": "78ce47f2-3491-4a31-ff46-843b76363b95"
      },
      "source": [
        "import os\n",
        "\n",
        "# Install java\n",
        "! apt-get update -qq\n",
        "! apt-get install -y openjdk-8-jdk-headless -qq > /dev/null\n",
        "\n",
        "os.environ[\"JAVA_HOME\"] = \"/usr/lib/jvm/java-8-openjdk-amd64\"\n",
        "os.environ[\"PATH\"] = os.environ[\"JAVA_HOME\"] + \"/bin:\" + os.environ[\"PATH\"]\n",
        "! java -version\n",
        "\n",
        "# Install pyspark\n",
        "! pip install --ignore-installed -q pyspark==2.4.4\n",
        "! pip install --ignore-installed -q spark-nlp==2.6.3-rc1"
      ],
      "execution_count": 1,
      "outputs": [
        {
          "output_type": "stream",
          "text": [
            "openjdk version \"1.8.0_275\"\n",
            "OpenJDK Runtime Environment (build 1.8.0_275-8u275-b01-0ubuntu1~18.04-b01)\n",
            "OpenJDK 64-Bit Server VM (build 25.275-b01, mixed mode)\n",
            "\u001b[K     |████████████████████████████████| 215.7MB 70kB/s \n",
            "\u001b[K     |████████████████████████████████| 204kB 40.7MB/s \n",
            "\u001b[?25h  Building wheel for pyspark (setup.py) ... \u001b[?25l\u001b[?25hdone\n",
            "\u001b[K     |████████████████████████████████| 133kB 4.3MB/s \n",
            "\u001b[?25h"
          ],
          "name": "stdout"
        }
      ]
    },
    {
      "cell_type": "markdown",
      "metadata": {
        "id": "rsaUzgf8G6tb"
      },
      "source": [
        "after installing java and pyspark, lets add spark nlp"
      ]
    },
    {
      "cell_type": "code",
      "metadata": {
        "colab": {
          "base_uri": "https://localhost:8080/"
        },
        "id": "8tv64MUJGzj5",
        "outputId": "30d33b98-0ae5-459a-beb7-6fd68a24da24"
      },
      "source": [
        "import sparknlp\n",
        "\n",
        "spark = sparknlp.start()\n",
        "\n",
        "# params =>> gpu=False, spark23=False (start with spark 2.3)\n",
        "\n",
        "print(\"Spark NLP version\", sparknlp.version())\n",
        "\n",
        "print(\"Apache Spark version:\", spark.version)"
      ],
      "execution_count": 2,
      "outputs": [
        {
          "output_type": "stream",
          "text": [
            "Spark NLP version 2.6.3-rc1\n",
            "Apache Spark version: 2.4.4\n"
          ],
          "name": "stdout"
        }
      ]
    },
    {
      "cell_type": "code",
      "metadata": {
        "id": "c-w2x1FyMQvr"
      },
      "source": [
        ""
      ],
      "execution_count": null,
      "outputs": []
    },
    {
      "cell_type": "markdown",
      "metadata": {
        "id": "XTaThjVPQaM7"
      },
      "source": [
        "We can choose different languages, libraries and pipleines "
      ]
    },
    {
      "cell_type": "code",
      "metadata": {
        "id": "eCXB5b2gQky2"
      },
      "source": [
        "from sparknlp.pretrained import PretrainedPipeline\n"
      ],
      "execution_count": 3,
      "outputs": []
    },
    {
      "cell_type": "code",
      "metadata": {
        "id": "eDw-gwGPQm9m"
      },
      "source": [
        ""
      ],
      "execution_count": null,
      "outputs": []
    },
    {
      "cell_type": "markdown",
      "metadata": {
        "id": "PzbMmio6QuHe"
      },
      "source": [
        "Lets try some of the pretrained pipelines "
      ]
    },
    {
      "cell_type": "code",
      "metadata": {
        "colab": {
          "base_uri": "https://localhost:8080/"
        },
        "id": "ph5U-51DQz10",
        "outputId": "2e9d0fd9-2bbc-4e44-83b8-45857c55efa9"
      },
      "source": [
        "pipeline = PretrainedPipeline('explain_document_ml', lang='en')"
      ],
      "execution_count": 4,
      "outputs": [
        {
          "output_type": "stream",
          "text": [
            "explain_document_ml download started this may take some time.\n",
            "Approx size to download 9.4 MB\n",
            "[OK!]\n"
          ],
          "name": "stdout"
        }
      ]
    },
    {
      "cell_type": "code",
      "metadata": {
        "id": "7y-y8Fg3Q4Js"
      },
      "source": [
        ""
      ],
      "execution_count": null,
      "outputs": []
    },
    {
      "cell_type": "markdown",
      "metadata": {
        "id": "RfAuhqa2Q7-I"
      },
      "source": [
        "This model have stages usch as tokenizer, spell check, lemmatizer and stemmer. Let's see these steps"
      ]
    },
    {
      "cell_type": "code",
      "metadata": {
        "colab": {
          "base_uri": "https://localhost:8080/"
        },
        "id": "tjtC1S9-RHVR",
        "outputId": "d4de7ed3-9d83-4ec6-d193-b60fd9f3cc1d"
      },
      "source": [
        "pipeline.model.stages\n"
      ],
      "execution_count": 5,
      "outputs": [
        {
          "output_type": "execute_result",
          "data": {
            "text/plain": [
              "[document_2ec0b742eccd,\n",
              " SENTENCE_98fb8e28cb7b,\n",
              " REGEX_TOKENIZER_1f63ed636a13,\n",
              " SPELL_e4ea67180337,\n",
              " LEMMATIZER_c62ad8f355f9,\n",
              " STEMMER_75edcc4a9cdb,\n",
              " POS_29fd848601e6]"
            ]
          },
          "metadata": {
            "tags": []
          },
          "execution_count": 5
        }
      ]
    },
    {
      "cell_type": "markdown",
      "metadata": {
        "id": "0aaXLReQR-nG"
      },
      "source": [
        "Let's create our test doc"
      ]
    },
    {
      "cell_type": "code",
      "metadata": {
        "id": "zPDcfvhASC3L"
      },
      "source": [
        "testdoc=''' this ipsum is placeholder text commonly used in the graphic, print, and publishing industries for previewing layouts and visual mockups. @ether_radio yeah :S i feel all funny cause i haven't slept enough  i woke my mum up cause i was singing she's not impressed :S you? '''"
      ],
      "execution_count": 17,
      "outputs": []
    },
    {
      "cell_type": "code",
      "metadata": {
        "id": "Z-gRHb4QRIxp"
      },
      "source": [
        "pipeline_local = PretrainedPipeline.from_disk('/root/cache_pretrained/explain_document_ml_en_2.4.0_2.4_1580252705962')"
      ],
      "execution_count": 18,
      "outputs": []
    },
    {
      "cell_type": "code",
      "metadata": {
        "id": "4CdNJA54Ritu"
      },
      "source": [
        "result=pipeline.annotate(testdoc)"
      ],
      "execution_count": 19,
      "outputs": []
    },
    {
      "cell_type": "code",
      "metadata": {
        "colab": {
          "base_uri": "https://localhost:8080/"
        },
        "id": "7wqD5hLpRyV8",
        "outputId": "cda537d1-4baa-42e3-d405-5070a003f8aa"
      },
      "source": [
        "result.keys()"
      ],
      "execution_count": 20,
      "outputs": [
        {
          "output_type": "execute_result",
          "data": {
            "text/plain": [
              "dict_keys(['document', 'spell', 'pos', 'lemmas', 'token', 'stems', 'sentence'])"
            ]
          },
          "metadata": {
            "tags": []
          },
          "execution_count": 20
        }
      ]
    },
    {
      "cell_type": "code",
      "metadata": {
        "colab": {
          "base_uri": "https://localhost:8080/"
        },
        "id": "xdMDUfc5TZIv",
        "outputId": "52163fcc-b94e-4001-a917-dc4acd58b511"
      },
      "source": [
        "result['token']"
      ],
      "execution_count": 21,
      "outputs": [
        {
          "output_type": "execute_result",
          "data": {
            "text/plain": [
              "['this',\n",
              " 'ipsum',\n",
              " 'is',\n",
              " 'placeholder',\n",
              " 'text',\n",
              " 'commonly',\n",
              " 'used',\n",
              " 'in',\n",
              " 'the',\n",
              " 'graphic',\n",
              " ',',\n",
              " 'print',\n",
              " ',',\n",
              " 'and',\n",
              " 'publishing',\n",
              " 'industries',\n",
              " 'for',\n",
              " 'previewing',\n",
              " 'layouts',\n",
              " 'and',\n",
              " 'visual',\n",
              " 'mockups',\n",
              " '.',\n",
              " '@ether_radio',\n",
              " 'yeah',\n",
              " ':',\n",
              " 'S',\n",
              " 'i',\n",
              " 'feel',\n",
              " 'all',\n",
              " 'funny',\n",
              " 'cause',\n",
              " 'i',\n",
              " \"haven't\",\n",
              " 'slept',\n",
              " 'enough',\n",
              " 'i',\n",
              " 'woke',\n",
              " 'my',\n",
              " 'mum',\n",
              " 'up',\n",
              " 'cause',\n",
              " 'i',\n",
              " 'was',\n",
              " 'singing',\n",
              " \"she's\",\n",
              " 'not',\n",
              " 'impressed',\n",
              " ':',\n",
              " 'S',\n",
              " 'you',\n",
              " '?']"
            ]
          },
          "metadata": {
            "tags": []
          },
          "execution_count": 21
        }
      ]
    },
    {
      "cell_type": "code",
      "metadata": {
        "colab": {
          "base_uri": "https://localhost:8080/"
        },
        "id": "06qwMKgAThT2",
        "outputId": "2e21b234-27b8-4377-e438-78f1ca57cc42"
      },
      "source": [
        "result['lemmas']"
      ],
      "execution_count": 22,
      "outputs": [
        {
          "output_type": "execute_result",
          "data": {
            "text/plain": [
              "['this',\n",
              " 'ipsum',\n",
              " 'be',\n",
              " 'placeholder',\n",
              " 'text',\n",
              " 'commonly',\n",
              " 'use',\n",
              " 'in',\n",
              " 'the',\n",
              " 'graphic',\n",
              " ',',\n",
              " 'print',\n",
              " ',',\n",
              " 'and',\n",
              " 'publish',\n",
              " 'industry',\n",
              " 'for',\n",
              " 'preview',\n",
              " 'layout',\n",
              " 'and',\n",
              " 'visual',\n",
              " 'mockups',\n",
              " '.',\n",
              " '@ether_radio',\n",
              " 'yeah',\n",
              " ':',\n",
              " 'S',\n",
              " 'i',\n",
              " 'feel',\n",
              " 'all',\n",
              " 'funny',\n",
              " 'cause',\n",
              " 'i',\n",
              " \"haven't\",\n",
              " 'sleep',\n",
              " 'enough',\n",
              " 'i',\n",
              " 'wake',\n",
              " 'i',\n",
              " 'mum',\n",
              " 'up',\n",
              " 'cause',\n",
              " 'i',\n",
              " 'be',\n",
              " 'sing',\n",
              " \"she's\",\n",
              " 'not',\n",
              " 'impressed',\n",
              " ':',\n",
              " 'S',\n",
              " 'you',\n",
              " '?']"
            ]
          },
          "metadata": {
            "tags": []
          },
          "execution_count": 22
        }
      ]
    },
    {
      "cell_type": "code",
      "metadata": {
        "id": "I3KF3iVqTp7D"
      },
      "source": [
        ""
      ],
      "execution_count": null,
      "outputs": []
    },
    {
      "cell_type": "markdown",
      "metadata": {
        "id": "QBmMLP3liVE5"
      },
      "source": [
        "we can see the Part of Speech (POS) by zipping token and POS"
      ]
    },
    {
      "cell_type": "code",
      "metadata": {
        "colab": {
          "base_uri": "https://localhost:8080/"
        },
        "id": "qzJs3TkIiqTG",
        "outputId": "b1683e97-9260-47ae-f0bc-2876a5f2fead"
      },
      "source": [
        "list(zip(result['token'], result['pos']))"
      ],
      "execution_count": 24,
      "outputs": [
        {
          "output_type": "execute_result",
          "data": {
            "text/plain": [
              "[('this', 'DT'),\n",
              " ('ipsum', 'NN'),\n",
              " ('is', 'VBZ'),\n",
              " ('placeholder', 'NN'),\n",
              " ('text', 'NN'),\n",
              " ('commonly', 'RB'),\n",
              " ('used', 'VBD'),\n",
              " ('in', 'IN'),\n",
              " ('the', 'DT'),\n",
              " ('graphic', 'JJ'),\n",
              " (',', ','),\n",
              " ('print', 'NN'),\n",
              " (',', ','),\n",
              " ('and', 'CC'),\n",
              " ('publishing', 'NN'),\n",
              " ('industries', 'NNS'),\n",
              " ('for', 'IN'),\n",
              " ('previewing', 'VBG'),\n",
              " ('layouts', 'NNS'),\n",
              " ('and', 'CC'),\n",
              " ('visual', 'JJ'),\n",
              " ('mockups', 'NNS'),\n",
              " ('.', '.'),\n",
              " ('@ether_radio', 'NN'),\n",
              " ('yeah', 'NN'),\n",
              " (':', ':'),\n",
              " ('S', 'NNP'),\n",
              " ('i', 'NNP'),\n",
              " ('feel', 'VBP'),\n",
              " ('all', 'DT'),\n",
              " ('funny', 'JJ'),\n",
              " ('cause', 'NN'),\n",
              " ('i', 'NNP'),\n",
              " (\"haven't\", 'NN'),\n",
              " ('slept', 'VBD'),\n",
              " ('enough', 'JJ'),\n",
              " ('i', 'NNP'),\n",
              " ('woke', 'VBD'),\n",
              " ('my', 'PRP$'),\n",
              " ('mum', 'JJ'),\n",
              " ('up', 'RP'),\n",
              " ('cause', 'NN'),\n",
              " ('i', 'NNP'),\n",
              " ('was', 'VBD'),\n",
              " ('singing', 'VBG'),\n",
              " (\"she's\", 'NN'),\n",
              " ('not', 'RB'),\n",
              " ('impressed', 'VBN'),\n",
              " (':', ':'),\n",
              " ('S', 'NNP'),\n",
              " ('you', 'PRP'),\n",
              " ('?', '.')]"
            ]
          },
          "metadata": {
            "tags": []
          },
          "execution_count": 24
        }
      ]
    },
    {
      "cell_type": "code",
      "metadata": {
        "id": "NpDAEHFjjEty"
      },
      "source": [
        ""
      ],
      "execution_count": null,
      "outputs": []
    },
    {
      "cell_type": "markdown",
      "metadata": {
        "id": "SFEE-j3ZjTMY"
      },
      "source": [
        "We can show this as a pandas dataframe"
      ]
    },
    {
      "cell_type": "code",
      "metadata": {
        "colab": {
          "base_uri": "https://localhost:8080/",
          "height": 359
        },
        "id": "5UMkMT-ZjXYP",
        "outputId": "276c9a47-022b-4b65-a3dc-27f26b067b79"
      },
      "source": [
        "import pandas as pd\n",
        "df=pd.DataFrame({'token':result['token'], 'pos':result['pos']})\n",
        "df.head(10)"
      ],
      "execution_count": 26,
      "outputs": [
        {
          "output_type": "execute_result",
          "data": {
            "text/html": [
              "<div>\n",
              "<style scoped>\n",
              "    .dataframe tbody tr th:only-of-type {\n",
              "        vertical-align: middle;\n",
              "    }\n",
              "\n",
              "    .dataframe tbody tr th {\n",
              "        vertical-align: top;\n",
              "    }\n",
              "\n",
              "    .dataframe thead th {\n",
              "        text-align: right;\n",
              "    }\n",
              "</style>\n",
              "<table border=\"1\" class=\"dataframe\">\n",
              "  <thead>\n",
              "    <tr style=\"text-align: right;\">\n",
              "      <th></th>\n",
              "      <th>token</th>\n",
              "      <th>pos</th>\n",
              "    </tr>\n",
              "  </thead>\n",
              "  <tbody>\n",
              "    <tr>\n",
              "      <th>0</th>\n",
              "      <td>this</td>\n",
              "      <td>DT</td>\n",
              "    </tr>\n",
              "    <tr>\n",
              "      <th>1</th>\n",
              "      <td>ipsum</td>\n",
              "      <td>NN</td>\n",
              "    </tr>\n",
              "    <tr>\n",
              "      <th>2</th>\n",
              "      <td>is</td>\n",
              "      <td>VBZ</td>\n",
              "    </tr>\n",
              "    <tr>\n",
              "      <th>3</th>\n",
              "      <td>placeholder</td>\n",
              "      <td>NN</td>\n",
              "    </tr>\n",
              "    <tr>\n",
              "      <th>4</th>\n",
              "      <td>text</td>\n",
              "      <td>NN</td>\n",
              "    </tr>\n",
              "    <tr>\n",
              "      <th>5</th>\n",
              "      <td>commonly</td>\n",
              "      <td>RB</td>\n",
              "    </tr>\n",
              "    <tr>\n",
              "      <th>6</th>\n",
              "      <td>used</td>\n",
              "      <td>VBD</td>\n",
              "    </tr>\n",
              "    <tr>\n",
              "      <th>7</th>\n",
              "      <td>in</td>\n",
              "      <td>IN</td>\n",
              "    </tr>\n",
              "    <tr>\n",
              "      <th>8</th>\n",
              "      <td>the</td>\n",
              "      <td>DT</td>\n",
              "    </tr>\n",
              "    <tr>\n",
              "      <th>9</th>\n",
              "      <td>graphic</td>\n",
              "      <td>JJ</td>\n",
              "    </tr>\n",
              "  </tbody>\n",
              "</table>\n",
              "</div>"
            ],
            "text/plain": [
              "         token  pos\n",
              "0         this   DT\n",
              "1        ipsum   NN\n",
              "2           is  VBZ\n",
              "3  placeholder   NN\n",
              "4         text   NN\n",
              "5     commonly   RB\n",
              "6         used  VBD\n",
              "7           in   IN\n",
              "8          the   DT\n",
              "9      graphic   JJ"
            ]
          },
          "metadata": {
            "tags": []
          },
          "execution_count": 26
        }
      ]
    },
    {
      "cell_type": "markdown",
      "metadata": {
        "id": "PbEUX81Vxmp4"
      },
      "source": [
        "Now lets clean the stop words"
      ]
    },
    {
      "cell_type": "markdown",
      "metadata": {
        "id": "Sq0jVHiMxd-9"
      },
      "source": [
        ""
      ]
    },
    {
      "cell_type": "code",
      "metadata": {
        "colab": {
          "base_uri": "https://localhost:8080/"
        },
        "id": "B5Ss12VMxrhq",
        "outputId": "78a85960-03b7-49c3-b0f7-44df32b7b0dc"
      },
      "source": [
        "stopclean=PretrainedPipeline('clean_stop', lang='en')\n"
      ],
      "execution_count": 27,
      "outputs": [
        {
          "output_type": "stream",
          "text": [
            "clean_stop download started this may take some time.\n",
            "Approx size to download 12.4 KB\n",
            "[OK!]\n"
          ],
          "name": "stdout"
        }
      ]
    },
    {
      "cell_type": "code",
      "metadata": {
        "colab": {
          "base_uri": "https://localhost:8080/"
        },
        "id": "JMJ2xDqix4t2",
        "outputId": "bc2d6ec4-8c31-40ec-9178-55e61168d865"
      },
      "source": [
        "result=stopclean.annotate(testdoc)\n",
        "result.keys()"
      ],
      "execution_count": 28,
      "outputs": [
        {
          "output_type": "execute_result",
          "data": {
            "text/plain": [
              "dict_keys(['document', 'sentence', 'token', 'cleanTokens'])"
            ]
          },
          "metadata": {
            "tags": []
          },
          "execution_count": 28
        }
      ]
    },
    {
      "cell_type": "code",
      "metadata": {
        "colab": {
          "base_uri": "https://localhost:8080/"
        },
        "id": "uUqz-CBKyK-S",
        "outputId": "7e290c5b-cd07-4367-d46c-270a701e94ad"
      },
      "source": [
        "result['cleanTokens']"
      ],
      "execution_count": 29,
      "outputs": [
        {
          "output_type": "execute_result",
          "data": {
            "text/plain": [
              "['ipsum',\n",
              " 'placeholder',\n",
              " 'text',\n",
              " 'commonly',\n",
              " 'graphic',\n",
              " ',',\n",
              " 'print',\n",
              " ',',\n",
              " 'publishing',\n",
              " 'industries',\n",
              " 'previewing',\n",
              " 'layouts',\n",
              " 'visual',\n",
              " 'mockups',\n",
              " '.',\n",
              " '@ether_radio',\n",
              " 'yeah',\n",
              " ':',\n",
              " 'S',\n",
              " 'feel',\n",
              " 'funny',\n",
              " 'cause',\n",
              " \"haven't\",\n",
              " 'slept',\n",
              " 'woke',\n",
              " 'mum',\n",
              " 'cause',\n",
              " 'singing',\n",
              " \"she's\",\n",
              " 'impressed',\n",
              " ':',\n",
              " 'S',\n",
              " '?']"
            ]
          },
          "metadata": {
            "tags": []
          },
          "execution_count": 29
        }
      ]
    },
    {
      "cell_type": "code",
      "metadata": {
        "colab": {
          "base_uri": "https://localhost:8080/",
          "height": 69
        },
        "id": "Yai3ouGzyRyi",
        "outputId": "679b7c10-d373-485d-d78d-69515349a7bb"
      },
      "source": [
        "' '.join(result['cleanTokens'])"
      ],
      "execution_count": 31,
      "outputs": [
        {
          "output_type": "execute_result",
          "data": {
            "application/vnd.google.colaboratory.intrinsic+json": {
              "type": "string"
            },
            "text/plain": [
              "\"ipsum placeholder text commonly graphic , print , publishing industries previewing layouts visual mockups . @ether_radio yeah : S feel funny cause haven't slept woke mum cause singing she's impressed : S ?\""
            ]
          },
          "metadata": {
            "tags": []
          },
          "execution_count": 31
        }
      ]
    },
    {
      "cell_type": "code",
      "metadata": {
        "id": "md6eG6NtydZQ"
      },
      "source": [
        ""
      ],
      "execution_count": null,
      "outputs": []
    },
    {
      "cell_type": "markdown",
      "metadata": {
        "id": "1rX2qNfWyol6"
      },
      "source": [
        "apply clean slang"
      ]
    },
    {
      "cell_type": "code",
      "metadata": {
        "colab": {
          "base_uri": "https://localhost:8080/"
        },
        "id": "vHOQld-YyqLu",
        "outputId": "e3d70263-c2ec-4a09-9a4f-483337f2446c"
      },
      "source": [
        "clean_slang = PretrainedPipeline('clean_slang', lang='en')"
      ],
      "execution_count": 32,
      "outputs": [
        {
          "output_type": "stream",
          "text": [
            "clean_slang download started this may take some time.\n",
            "Approx size to download 21.8 KB\n",
            "[OK!]\n"
          ],
          "name": "stdout"
        }
      ]
    },
    {
      "cell_type": "code",
      "metadata": {
        "id": "b7ttKxmoytxu"
      },
      "source": [
        "result=clean_slang.annotate(testdoc)"
      ],
      "execution_count": 34,
      "outputs": []
    },
    {
      "cell_type": "code",
      "metadata": {
        "colab": {
          "base_uri": "https://localhost:8080/"
        },
        "id": "VWQ3Juxiy_pb",
        "outputId": "8b160b18-1e95-4759-b4ce-feabc9f965d4"
      },
      "source": [
        "result.keys()"
      ],
      "execution_count": 36,
      "outputs": [
        {
          "output_type": "execute_result",
          "data": {
            "text/plain": [
              "dict_keys(['document', 'token', 'normal'])"
            ]
          },
          "metadata": {
            "tags": []
          },
          "execution_count": 36
        }
      ]
    },
    {
      "cell_type": "code",
      "metadata": {
        "colab": {
          "base_uri": "https://localhost:8080/",
          "height": 69
        },
        "id": "i7K3eZUHzLry",
        "outputId": "78d3fac2-f552-46b8-8806-404d154c4955"
      },
      "source": [
        "' '.join(result['normal'])"
      ],
      "execution_count": 38,
      "outputs": [
        {
          "output_type": "execute_result",
          "data": {
            "application/vnd.google.colaboratory.intrinsic+json": {
              "type": "string"
            },
            "text/plain": [
              "'this ipsum is placeholder text commonly used in the graphic print and publishing industries for previewing layouts and visual mockups etherradio yeah S i feel all funny cause i havent slept enough i woke my mum up cause i was singing shes not impressed S you'"
            ]
          },
          "metadata": {
            "tags": []
          },
          "execution_count": 38
        }
      ]
    },
    {
      "cell_type": "code",
      "metadata": {
        "id": "43pekzL2zUIX"
      },
      "source": [
        ""
      ],
      "execution_count": null,
      "outputs": []
    },
    {
      "cell_type": "markdown",
      "metadata": {
        "id": "i6V2gb9Y0XQ2"
      },
      "source": [
        "spell check"
      ]
    },
    {
      "cell_type": "code",
      "metadata": {
        "colab": {
          "base_uri": "https://localhost:8080/"
        },
        "id": "dbYLqVAi0Ylc",
        "outputId": "88ef95ab-398b-422d-b352-51f9b790e73c"
      },
      "source": [
        "spell_checker = PretrainedPipeline('check_spelling', lang='en')\n"
      ],
      "execution_count": 39,
      "outputs": [
        {
          "output_type": "stream",
          "text": [
            "check_spelling download started this may take some time.\n",
            "Approx size to download 892.6 KB\n",
            "[OK!]\n"
          ],
          "name": "stdout"
        }
      ]
    },
    {
      "cell_type": "code",
      "metadata": {
        "id": "sNTTUk6S0fcv"
      },
      "source": [
        "result = spell_checker.annotate(testdoc)"
      ],
      "execution_count": 41,
      "outputs": []
    },
    {
      "cell_type": "code",
      "metadata": {
        "colab": {
          "base_uri": "https://localhost:8080/"
        },
        "id": "4SL5M6Mg0pA7",
        "outputId": "33243e29-225d-487a-f072-6c807acbafbd"
      },
      "source": [
        "result.keys()"
      ],
      "execution_count": 42,
      "outputs": [
        {
          "output_type": "execute_result",
          "data": {
            "text/plain": [
              "dict_keys(['document', 'sentence', 'token', 'checked'])"
            ]
          },
          "metadata": {
            "tags": []
          },
          "execution_count": 42
        }
      ]
    },
    {
      "cell_type": "code",
      "metadata": {
        "colab": {
          "base_uri": "https://localhost:8080/",
          "height": 69
        },
        "id": "1Mcw2oxh0uQK",
        "outputId": "71c1889e-ab64-4991-e28e-b47f682c6c8d"
      },
      "source": [
        "' '.join(result['checked'])"
      ],
      "execution_count": 43,
      "outputs": [
        {
          "output_type": "execute_result",
          "data": {
            "application/vnd.google.colaboratory.intrinsic+json": {
              "type": "string"
            },
            "text/plain": [
              "\"this ipsum is placeholder text commonly used in the graphic , print , and publishing industries for reviewing payouts and visual mockups . @ether_radio yeah : S i feel all funny cause i haven't slept enough i woke my mum up cause i was singing sheds not impressed : S you ?\""
            ]
          },
          "metadata": {
            "tags": []
          },
          "execution_count": 43
        }
      ]
    },
    {
      "cell_type": "code",
      "metadata": {
        "colab": {
          "base_uri": "https://localhost:8080/",
          "height": 69
        },
        "id": "S1WUlPsT0zU7",
        "outputId": "6bbc3123-a83c-4ba8-b35f-52b81005a760"
      },
      "source": [
        "testdoc"
      ],
      "execution_count": 44,
      "outputs": [
        {
          "output_type": "execute_result",
          "data": {
            "application/vnd.google.colaboratory.intrinsic+json": {
              "type": "string"
            },
            "text/plain": [
              "\" this ipsum is placeholder text commonly used in the graphic, print, and publishing industries for previewing layouts and visual mockups. @ether_radio yeah :S i feel all funny cause i haven't slept enough  i woke my mum up cause i was singing she's not impressed :S you? \""
            ]
          },
          "metadata": {
            "tags": []
          },
          "execution_count": 44
        }
      ]
    },
    {
      "cell_type": "code",
      "metadata": {
        "id": "sN6UHrjV02i6"
      },
      "source": [
        "tex2=''' whatsup bro, lol you are good, call me asap'''"
      ],
      "execution_count": 58,
      "outputs": []
    },
    {
      "cell_type": "code",
      "metadata": {
        "colab": {
          "base_uri": "https://localhost:8080/",
          "height": 35
        },
        "id": "bFIxc5Pe1PWH",
        "outputId": "99c7d2d8-c536-41f7-8eaf-1ed3e3ed3bee"
      },
      "source": [
        "\n",
        "res2=clean_slang.annotate(tex2)\n",
        "' '.join(res2['normal'])"
      ],
      "execution_count": 59,
      "outputs": [
        {
          "output_type": "execute_result",
          "data": {
            "application/vnd.google.colaboratory.intrinsic+json": {
              "type": "string"
            },
            "text/plain": [
              "'how are you friend laugh out loud you are good call me as soon as possible'"
            ]
          },
          "metadata": {
            "tags": []
          },
          "execution_count": 59
        }
      ]
    },
    {
      "cell_type": "code",
      "metadata": {
        "id": "sxde2WO61gV1"
      },
      "source": [
        ""
      ],
      "execution_count": null,
      "outputs": []
    },
    {
      "cell_type": "markdown",
      "metadata": {
        "id": "8N7IUpel73iE"
      },
      "source": [
        "lets check the sentiment analysis of a sample text"
      ]
    },
    {
      "cell_type": "code",
      "metadata": {
        "colab": {
          "base_uri": "https://localhost:8080/"
        },
        "id": "D3m5labf77bd",
        "outputId": "9249a0e7-304a-41aa-a3a2-9d94a2e48deb"
      },
      "source": [
        "sentiment = PretrainedPipeline('analyze_sentiment', lang='en')\n"
      ],
      "execution_count": 60,
      "outputs": [
        {
          "output_type": "stream",
          "text": [
            "analyze_sentiment download started this may take some time.\n",
            "Approx size to download 4.9 MB\n",
            "[OK!]\n"
          ],
          "name": "stdout"
        }
      ]
    },
    {
      "cell_type": "code",
      "metadata": {
        "id": "wqy3fDVt8E_T"
      },
      "source": [
        "result=sentiment.annotate(\"i can't answer this question, i hate it\")"
      ],
      "execution_count": 73,
      "outputs": []
    },
    {
      "cell_type": "code",
      "metadata": {
        "colab": {
          "base_uri": "https://localhost:8080/"
        },
        "id": "UdrkUwMz8RkJ",
        "outputId": "ef36f2fb-440a-440a-c395-98a578e4b0d9"
      },
      "source": [
        "result.keys()"
      ],
      "execution_count": 74,
      "outputs": [
        {
          "output_type": "execute_result",
          "data": {
            "text/plain": [
              "dict_keys(['checked', 'document', 'sentiment', 'token', 'sentence'])"
            ]
          },
          "metadata": {
            "tags": []
          },
          "execution_count": 74
        }
      ]
    },
    {
      "cell_type": "code",
      "metadata": {
        "colab": {
          "base_uri": "https://localhost:8080/"
        },
        "id": "54yCZDGH8T7h",
        "outputId": "319a4b2e-1ce6-41b4-8d89-420f70d41a4e"
      },
      "source": [
        "result['sentiment']"
      ],
      "execution_count": 75,
      "outputs": [
        {
          "output_type": "execute_result",
          "data": {
            "text/plain": [
              "['negative']"
            ]
          },
          "metadata": {
            "tags": []
          },
          "execution_count": 75
        }
      ]
    },
    {
      "cell_type": "code",
      "metadata": {
        "id": "p9naXinS8V8w"
      },
      "source": [
        ""
      ],
      "execution_count": null,
      "outputs": []
    },
    {
      "cell_type": "markdown",
      "metadata": {
        "id": "VNSX-Plu86Id"
      },
      "source": [
        "better sentiment analysis with USE "
      ]
    },
    {
      "cell_type": "code",
      "metadata": {
        "colab": {
          "base_uri": "https://localhost:8080/"
        },
        "id": "SZY-oxoT8_Q7",
        "outputId": "513028e9-6981-4701-dd8c-7acda093ea27"
      },
      "source": [
        "sentiment_better=PretrainedPipeline('analyze_sentimentdl_use_imdb', lang='en')"
      ],
      "execution_count": 76,
      "outputs": [
        {
          "output_type": "stream",
          "text": [
            "analyze_sentimentdl_use_imdb download started this may take some time.\n",
            "Approx size to download 935.8 MB\n",
            "[OK!]\n"
          ],
          "name": "stdout"
        }
      ]
    },
    {
      "cell_type": "code",
      "metadata": {
        "id": "XXVhKhhK9FvI"
      },
      "source": [
        "result = sentiment_better.annotate(\"Robot Roomba 675 Robot Vacuum with Wi-Fi Connectivity, Works with Alexa, Good for Pet Hair, Carpets, Hard Floors. This handy household cleaner, with its robot sensibilities, will clean your floors very well. It can be operated with Alexa, your cellphone or in and of itself: it allows the user to connect to clean from anywhere in the house. Its patented 3-Stage Cleaning System is specially engineered to loosen, lift, and suction everything from small particles to large debris from carpets and hard floors. Its patented dirt detect sensors alert to work harder on concentrated areas of dirt, such as high-traffic zones of your home. Its edge-sweeping brush is specially designed at a 27-degree angle to sweep debris away from edges and corners. Its full suite of intelligent sensors guide the robot under and around furniture to help thoroughly clean your floors while it runs for up to 90 minutes before automatically docking and recharging. Required for use: just charge its battery, press clean or schedule Roomba on the go with the iRobot HOME App or Alexa.\")"
      ],
      "execution_count": 86,
      "outputs": []
    },
    {
      "cell_type": "code",
      "metadata": {
        "colab": {
          "base_uri": "https://localhost:8080/"
        },
        "id": "La3PCI9M9e99",
        "outputId": "b376168d-eb57-4fc5-f151-dc6335f50677"
      },
      "source": [
        "result['sentiment']"
      ],
      "execution_count": 87,
      "outputs": [
        {
          "output_type": "execute_result",
          "data": {
            "text/plain": [
              "['positive']"
            ]
          },
          "metadata": {
            "tags": []
          },
          "execution_count": 87
        }
      ]
    },
    {
      "cell_type": "code",
      "metadata": {
        "colab": {
          "base_uri": "https://localhost:8080/"
        },
        "id": "zYfMMhOE9pD8",
        "outputId": "f336b170-f3cb-45a9-991b-07b74220a29b"
      },
      "source": [
        "result.keys()"
      ],
      "execution_count": 88,
      "outputs": [
        {
          "output_type": "execute_result",
          "data": {
            "text/plain": [
              "dict_keys(['document', 'sentence_embeddings', 'sentiment'])"
            ]
          },
          "metadata": {
            "tags": []
          },
          "execution_count": 88
        }
      ]
    },
    {
      "cell_type": "code",
      "metadata": {
        "colab": {
          "base_uri": "https://localhost:8080/"
        },
        "id": "n5Dm25jN-Son",
        "outputId": "28126112-247f-4b18-d526-763ff3691b96"
      },
      "source": [
        "sentiment_better.fullAnnotate(\"Robot Roomba 675 Robot Vacuum with Wi-Fi Connectivity, Works with Alexa, Good for Pet Hair, Carpets, Hard Floors. This handy household cleaner, with its robot sensibilities, will clean your floors very well. It can be operated with Alexa, your cellphone or in and of itself: it allows the user to connect to clean from anywhere in the house. Its patented 3-Stage Cleaning System is specially engineered to loosen, lift, and suction everything from small particles to large debris from carpets and hard floors. Its patented dirt detect sensors alert to work harder on concentrated areas of dirt, such as high-traffic zones of your home. Its edge-sweeping brush is specially designed at a 27-degree angle to sweep debris away from edges and corners. Its full suite of intelligent sensors guide the robot under and around furniture to help thoroughly clean your floors while it runs for up to 90 minutes before automatically docking and recharging. Required for use: just charge its battery, press clean or schedule Roomba on the go with the iRobot HOME App or Alexa.\")[0]['sentiment']"
      ],
      "execution_count": 90,
      "outputs": [
        {
          "output_type": "execute_result",
          "data": {
            "text/plain": [
              "[Annotation(category, 0, 1063, positive, {'sentence': '0', 'positive': '1.0', 'negative': '2.0834964E-14'})]"
            ]
          },
          "metadata": {
            "tags": []
          },
          "execution_count": 90
        }
      ]
    },
    {
      "cell_type": "code",
      "metadata": {
        "id": "pezAak7h-arG"
      },
      "source": [
        ""
      ],
      "execution_count": null,
      "outputs": []
    }
  ]
}